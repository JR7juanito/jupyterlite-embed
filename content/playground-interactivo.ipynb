{
 "cells": [
  {
   "cell_type": "markdown",
   "metadata": {},
   "source": [
    "# Playground Avanzado\n\nExperimentos cientificos con widgets interactivos."
   ]
  },
  {
   "cell_type": "markdown",
   "metadata": {},
   "source": [
    "## Simulador de Dados"
   ]
  },
  {
   "cell_type": "code",
   "execution_count": null,
   "metadata": {},
   "outputs": [],
   "source": [
    "import random\nimport matplotlib.pyplot as plt\nfrom ipywidgets import interact, IntSlider, Dropdown\n\ndef simular_dados(num_dados=2, tiradas=100, tipo=6):\n    resultados = [sum(random.randint(1, tipo) for _ in range(num_dados)) for _ in range(tiradas)]\n    plt.figure(figsize=(10, 5))\n    plt.hist(resultados, bins=range(num_dados, num_dados*tipo+2), edgecolor='black', alpha=0.7)\n    plt.xlabel('Suma')\n    plt.ylabel('Frecuencia')\n    plt.title(f'{tiradas} tiradas de {num_dados} dados D{tipo}')\n    plt.grid(True, alpha=0.3)\n    plt.show()\n    print(f'Promedio: {sum(resultados)/len(resultados):.2f}')\n\ninteract(simular_dados,\n         num_dados=IntSlider(min=1, max=5, value=2, description='Dados:'),\n         tiradas=IntSlider(min=10, max=1000, step=10, value=100, description='Tiradas:'),\n         tipo=Dropdown(options=[4, 6, 8, 10, 12, 20], value=6, description='Tipo:'));"
   ]
  },
  {
   "cell_type": "markdown",
   "metadata": {},
   "source": [
    "## Experimenta!\n\nCambia los parametros y observa las distribuciones."
   ]
  }
 ],
 "metadata": {
  "kernelspec": {
   "display_name": "Python 3",
   "language": "python",
   "name": "python3"
  },
  "language_info": {
   "name": "python"
  }
 },
 "nbformat": 4,
 "nbformat_minor": 4
}