{
 "cells": [
  {
   "cell_type": "markdown",
   "metadata": {},
   "source": [
    "# Jupyter Interactivo\n\nBienvenido! Este notebook funciona 100% en tu navegador con widgets interactivos.\n\n## Instrucciones:\n1. Ejecuta cada celda con Shift + Enter\n2. Mueve los sliders\n3. Observa los resultados en tiempo real"
   ]
  },
  {
   "cell_type": "markdown",
   "metadata": {},
   "source": [
    "## Ejemplo 1: Arte ASCII Interactivo"
   ]
  },
  {
   "cell_type": "code",
   "execution_count": null,
   "metadata": {},
   "outputs": [],
   "source": [
    "from ipywidgets import interact, IntSlider, Dropdown\n\ndef generar_patron(tamano=5, estilo='Piramide'):\n    if estilo == 'Piramide':\n        for i in range(1, tamano + 1):\n            print(' ' * (tamano - i) + '* ' * i)\n    elif estilo == 'Diamante':\n        for i in range(1, tamano):\n            print(' ' * (tamano - i) + '* ' * i)\n        for i in range(tamano, 0, -1):\n            print(' ' * (tamano - i) + '* ' * i)\n\ninteract(generar_patron, \n         tamano=IntSlider(min=3, max=15, value=7, description='Tamano:'),\n         estilo=Dropdown(options=['Piramide', 'Diamante'], description='Estilo:'));"
   ]
  },
  {
   "cell_type": "markdown",
   "metadata": {},
   "source": [
    "## Ejemplo 2: Funciones Matematicas"
   ]
  },
  {
   "cell_type": "code",
   "execution_count": null,
   "metadata": {},
   "outputs": [],
   "source": [
    "import matplotlib.pyplot as plt\nimport numpy as np\nfrom ipywidgets import interact, FloatSlider, Dropdown\n\ndef graficar(funcion='Seno', freq=1.0, amp=1.0):\n    x = np.linspace(0, 4*np.pi, 500)\n    if funcion == 'Seno':\n        y = amp * np.sin(freq * x)\n    else:\n        y = amp * np.cos(freq * x)\n    plt.figure(figsize=(10, 4))\n    plt.plot(x, y, linewidth=2)\n    plt.grid(True, alpha=0.3)\n    plt.title(f'Funcion {funcion}')\n    plt.show()\n\ninteract(graficar,\n         funcion=Dropdown(options=['Seno', 'Coseno'], description='Funcion:'),\n         freq=FloatSlider(min=0.1, max=5.0, value=1.0, description='Frecuencia:'),\n         amp=FloatSlider(min=0.1, max=5.0, value=1.0, description='Amplitud:'));"
   ]
  },
  {
   "cell_type": "markdown",
   "metadata": {},
   "source": [
    "## Sigue Experimentando!\n\nMueve los sliders y observa los cambios en tiempo real."
   ]
  }
 ],
 "metadata": {
  "kernelspec": {
   "display_name": "Python 3",
   "language": "python",
   "name": "python3"
  },
  "language_info": {
   "name": "python"
  }
 },
 "nbformat": 4,
 "nbformat_minor": 4
}