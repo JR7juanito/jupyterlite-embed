{
 "cells": [
  {
   "cell_type": "markdown",
   "id": "413f3785",
   "metadata": {},
   "source": [
    "# 🚀 Bienvenido a Jupyter en tu Navegador\n",
    "\n",
    "Este notebook funciona **100% en tu navegador** - no necesitas instalar nada!\n",
    "\n",
    "## ¿Qué puedes hacer aquí?\n",
    "\n",
    "- ✅ Escribir y ejecutar código Python\n",
    "- ✅ Hacer cálculos y visualizaciones\n",
    "- ✅ Aprender programación de forma interactiva\n",
    "- ✅ Todo sin necesidad de un dispositivo potente\n",
    "\n",
    "---"
   ]
  },
  {
   "cell_type": "markdown",
   "id": "6eb0ca93",
   "metadata": {},
   "source": [
    "## 📊 Ejemplo 1: Calculadora Interactiva\n",
    "\n",
    "Ejecuta la siguiente celda haciendo clic en ella y presionando `Shift + Enter`:"
   ]
  },
  {
   "cell_type": "code",
   "execution_count": null,
   "id": "997ac9b0",
   "metadata": {},
   "outputs": [],
   "source": [
    "# ¡Cambia estos números y vuelve a ejecutar!\n",
    "numero1 = 42\n",
    "numero2 = 8\n",
    "\n",
    "print(f\"Suma: {numero1} + {numero2} = {numero1 + numero2}\")\n",
    "print(f\"Multiplicación: {numero1} × {numero2} = {numero1 * numero2}\")\n",
    "print(f\"División: {numero1} ÷ {numero2} = {numero1 / numero2}\")\n",
    "print(f\"Potencia: {numero1}² = {numero1 ** 2}\")"
   ]
  },
  {
   "cell_type": "markdown",
   "id": "0eb7a0ed",
   "metadata": {},
   "source": [
    "## 🎨 Ejemplo 2: Generador de Patrones\n",
    "\n",
    "Crea arte ASCII con código Python:"
   ]
  },
  {
   "cell_type": "code",
   "execution_count": null,
   "id": "70bf959b",
   "metadata": {},
   "outputs": [],
   "source": [
    "# Cambia el tamaño para ver diferentes patrones\n",
    "tamaño = 7\n",
    "\n",
    "print(\"🌟 Pirámide de estrellas:\")\n",
    "for i in range(1, tamaño + 1):\n",
    "    espacios = \" \" * (tamaño - i)\n",
    "    estrellas = \"★ \" * i\n",
    "    print(espacios + estrellas)\n",
    "\n",
    "print(\"\\n💎 Diamante:\")\n",
    "# Parte superior\n",
    "for i in range(1, tamaño):\n",
    "    print(\" \" * (tamaño - i) + \"◆ \" * i)\n",
    "# Parte inferior\n",
    "for i in range(tamaño, 0, -1):\n",
    "    print(\" \" * (tamaño - i) + \"◆ \" * i)"
   ]
  },
  {
   "cell_type": "markdown",
   "id": "d5456209",
   "metadata": {},
   "source": [
    "## 📈 Ejemplo 3: Visualización de Datos\n",
    "\n",
    "Crea gráficos sencillos con caracteres:"
   ]
  },
  {
   "cell_type": "code",
   "execution_count": null,
   "id": "67129934",
   "metadata": {},
   "outputs": [],
   "source": [
    "# Datos de ejemplo: ventas por día\n",
    "dias = ['Lun', 'Mar', 'Mié', 'Jue', 'Vie', 'Sáb', 'Dom']\n",
    "ventas = [45, 67, 89, 123, 156, 201, 178]\n",
    "\n",
    "print(\"📊 Gráfico de Barras - Ventas Semanales\")\n",
    "print(\"=\" * 50)\n",
    "\n",
    "# Encontrar el máximo para escalar\n",
    "max_ventas = max(ventas)\n",
    "\n",
    "for dia, venta in zip(dias, ventas):\n",
    "    # Escalar a 40 caracteres máximo\n",
    "    barras = int((venta / max_ventas) * 40)\n",
    "    barra = \"█\" * barras\n",
    "    print(f\"{dia}: {barra} {venta}\")\n",
    "\n",
    "print(\"=\" * 50)\n",
    "print(f\"Total de la semana: {sum(ventas)}\")\n",
    "print(f\"Promedio diario: {sum(ventas) / len(ventas):.1f}\")"
   ]
  },
  {
   "cell_type": "markdown",
   "id": "2eb363f6",
   "metadata": {},
   "source": [
    "## 🎲 Ejemplo 4: Mini Juego Interactivo\n",
    "\n",
    "Un simple juego de adivinar números:"
   ]
  },
  {
   "cell_type": "code",
   "execution_count": null,
   "id": "4e04f5b6",
   "metadata": {},
   "outputs": [],
   "source": [
    "import random\n",
    "\n",
    "# El programa elige un número\n",
    "numero_secreto = random.randint(1, 100)\n",
    "intentos = 0\n",
    "max_intentos = 7\n",
    "\n",
    "print(\"🎲 ¡JUEGO DE ADIVINAR EL NÚMERO!\")\n",
    "print(f\"He pensado un número entre 1 y 100.\")\n",
    "print(f\"Tienes {max_intentos} intentos para adivinarlo.\\n\")\n",
    "\n",
    "# Para demo, hacemos algunas rondas simuladas\n",
    "intentos_demo = [50, 75, 63, 69, 72]\n",
    "\n",
    "for intento_num, adivinanza in enumerate(intentos_demo, 1):\n",
    "    print(f\"Intento {intento_num}: {adivinanza}\")\n",
    "    \n",
    "    if adivinanza == numero_secreto:\n",
    "        print(f\"\\n🎉 ¡FELICITACIONES! Adivinaste en {intento_num} intentos.\")\n",
    "        break\n",
    "    elif adivinanza < numero_secreto:\n",
    "        print(\"   ⬆️  El número es MAYOR\")\n",
    "    else:\n",
    "        print(\"   ⬇️  El número es MENOR\")\n",
    "    print()\n",
    "else:\n",
    "    print(f\"\\n❌ Se acabaron los intentos. El número era: {numero_secreto}\")\n",
    "\n",
    "print(f\"\\n💡 Tip: El número secreto era {numero_secreto}\")"
   ]
  },
  {
   "cell_type": "markdown",
   "id": "af997a49",
   "metadata": {},
   "source": [
    "## 🧮 Ejemplo 5: Calculadora de Propinas\n",
    "\n",
    "Herramienta práctica para calcular propinas:"
   ]
  },
  {
   "cell_type": "code",
   "execution_count": null,
   "id": "7fb270ff",
   "metadata": {},
   "outputs": [],
   "source": [
    "# ¡Cambia estos valores!\n",
    "total_cuenta = 85.50\n",
    "porcentaje_propina = 15  # 10%, 15%, 20%, etc.\n",
    "personas = 4\n",
    "\n",
    "print(\"💰 CALCULADORA DE PROPINAS\")\n",
    "print(\"=\" * 40)\n",
    "print(f\"Cuenta total:        ${total_cuenta:.2f}\")\n",
    "print(f\"Propina ({porcentaje_propina}%):       ${total_cuenta * porcentaje_propina / 100:.2f}\")\n",
    "print(\"=\" * 40)\n",
    "\n",
    "total_con_propina = total_cuenta * (1 + porcentaje_propina / 100)\n",
    "print(f\"TOTAL A PAGAR:       ${total_con_propina:.2f}\")\n",
    "print()\n",
    "print(f\"👥 Dividido entre {personas} personas:\")\n",
    "print(f\"Cada uno paga:       ${total_con_propina / personas:.2f}\")\n",
    "print(\"=\" * 40)"
   ]
  },
  {
   "cell_type": "markdown",
   "id": "4b81d8e0",
   "metadata": {},
   "source": [
    "## 🔢 Ejemplo 6: Tabla de Multiplicar\n",
    "\n",
    "Genera cualquier tabla de multiplicar:"
   ]
  },
  {
   "cell_type": "code",
   "execution_count": null,
   "id": "5b3f5ca9",
   "metadata": {},
   "outputs": [],
   "source": [
    "# ¡Cambia este número para ver otra tabla!\n",
    "numero = 7\n",
    "\n",
    "print(f\"📋 TABLA DE MULTIPLICAR DEL {numero}\")\n",
    "print(\"=\" * 30)\n",
    "\n",
    "for i in range(1, 11):\n",
    "    resultado = numero * i\n",
    "    print(f\"{numero:2d} × {i:2d} = {resultado:3d}\")\n",
    "\n",
    "print(\"=\" * 30)"
   ]
  },
  {
   "cell_type": "markdown",
   "id": "6af9d56a",
   "metadata": {},
   "source": [
    "## 🌡️ Ejemplo 7: Conversor de Temperatura\n",
    "\n",
    "Convierte entre Celsius, Fahrenheit y Kelvin:"
   ]
  },
  {
   "cell_type": "code",
   "execution_count": null,
   "id": "58145145",
   "metadata": {},
   "outputs": [],
   "source": [
    "# Temperatura en Celsius\n",
    "celsius = 25\n",
    "\n",
    "# Conversiones\n",
    "fahrenheit = (celsius * 9/5) + 32\n",
    "kelvin = celsius + 273.15\n",
    "\n",
    "print(\"🌡️  CONVERSOR DE TEMPERATURA\")\n",
    "print(\"=\" * 40)\n",
    "print(f\"{celsius}°C equivale a:\")\n",
    "print(f\"  🔴 {fahrenheit:.1f}°F (Fahrenheit)\")\n",
    "print(f\"  🔵 {kelvin:.2f}K (Kelvin)\")\n",
    "print(\"=\" * 40)\n",
    "\n",
    "# Referencia\n",
    "print(\"\\n📌 Referencias:\")\n",
    "print(\"  Agua congela: 0°C = 32°F = 273.15K\")\n",
    "print(\"  Agua hierve:  100°C = 212°F = 373.15K\")\n",
    "print(\"  Temp. ambiente: ~20-25°C\")"
   ]
  },
  {
   "cell_type": "markdown",
   "id": "a6cecf7d",
   "metadata": {},
   "source": [
    "## 🎓 ¡Ahora es tu turno!\n",
    "\n",
    "Usa la celda de abajo para escribir tu propio código Python:"
   ]
  },
  {
   "cell_type": "code",
   "execution_count": null,
   "id": "fa119436",
   "metadata": {},
   "outputs": [],
   "source": [
    "# ¡Escribe tu código aquí!\n",
    "# Por ejemplo, intenta:\n",
    "# - Calcular tu edad en días\n",
    "# - Crear una lista de tus películas favoritas\n",
    "# - Hacer operaciones matemáticas\n",
    "\n",
    "print(\"¡Hola, mundo desde JupyterLite!\")"
   ]
  },
  {
   "cell_type": "markdown",
   "id": "554f8db4",
   "metadata": {},
   "source": [
    "---\n",
    "\n",
    "## 💡 Tips:\n",
    "\n",
    "- **Ejecutar celda:** `Shift + Enter`\n",
    "- **Añadir celda:** Botón `+` en la barra superior\n",
    "- **Guardar:** Tus cambios se guardan en el navegador\n",
    "- **Reiniciar:** Recarga la página para empezar de nuevo\n",
    "\n",
    "### 🚀 ¿Quieres aprender más?\n",
    "\n",
    "Este notebook funciona con **JupyterLite** - Jupyter corriendo 100% en tu navegador.\n",
    "No necesitas instalar nada ni tener un servidor. ¡Perfecto para aprender!\n",
    "\n",
    "**Recursos:**\n",
    "- [Documentación de Python](https://docs.python.org/es/)\n",
    "- [Tutorial de JupyterLite](https://jupyterlite.readthedocs.io/)\n",
    "- [Aprende Python](https://www.learnpython.org/es/)"
   ]
  }
 ],
 "metadata": {
  "language_info": {
   "name": "python"
  }
 },
 "nbformat": 4,
 "nbformat_minor": 5
}
